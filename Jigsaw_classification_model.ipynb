{
  "nbformat": 4,
  "nbformat_minor": 0,
  "metadata": {
    "colab": {
      "provenance": [],
      "machine_shape": "hm"
    },
    "kernelspec": {
      "name": "python3",
      "display_name": "Python 3"
    },
    "accelerator": "GPU"
  },
  "cells": [
    {
      "cell_type": "markdown",
      "metadata": {
        "id": "pW3N9Ct-6aG1"
      },
      "source": [
        "## 1. Using Kaggle token to download the data and process it over cloud"
      ]
    },
    {
      "cell_type": "code",
      "metadata": {
        "id": "IWP723kT7JIp",
        "colab": {
          "base_uri": "https://localhost:8080/",
          "height": 90
        },
        "outputId": "c559e553-ea91-491b-9577-916059f81e91"
      },
      "source": [
        "#kaggle json key to get data from kaggle\n",
        "from google.colab import files\n",
        "files.upload()"
      ],
      "execution_count": 4,
      "outputs": [
        {
          "output_type": "display_data",
          "data": {
            "text/plain": [
              "<IPython.core.display.HTML object>"
            ],
            "text/html": [
              "\n",
              "     <input type=\"file\" id=\"files-a20f983d-c247-4c2d-9249-38315e6a77a6\" name=\"files[]\" multiple disabled\n",
              "        style=\"border:none\" />\n",
              "     <output id=\"result-a20f983d-c247-4c2d-9249-38315e6a77a6\">\n",
              "      Upload widget is only available when the cell has been executed in the\n",
              "      current browser session. Please rerun this cell to enable.\n",
              "      </output>\n",
              "      <script>// Copyright 2017 Google LLC\n",
              "//\n",
              "// Licensed under the Apache License, Version 2.0 (the \"License\");\n",
              "// you may not use this file except in compliance with the License.\n",
              "// You may obtain a copy of the License at\n",
              "//\n",
              "//      http://www.apache.org/licenses/LICENSE-2.0\n",
              "//\n",
              "// Unless required by applicable law or agreed to in writing, software\n",
              "// distributed under the License is distributed on an \"AS IS\" BASIS,\n",
              "// WITHOUT WARRANTIES OR CONDITIONS OF ANY KIND, either express or implied.\n",
              "// See the License for the specific language governing permissions and\n",
              "// limitations under the License.\n",
              "\n",
              "/**\n",
              " * @fileoverview Helpers for google.colab Python module.\n",
              " */\n",
              "(function(scope) {\n",
              "function span(text, styleAttributes = {}) {\n",
              "  const element = document.createElement('span');\n",
              "  element.textContent = text;\n",
              "  for (const key of Object.keys(styleAttributes)) {\n",
              "    element.style[key] = styleAttributes[key];\n",
              "  }\n",
              "  return element;\n",
              "}\n",
              "\n",
              "// Max number of bytes which will be uploaded at a time.\n",
              "const MAX_PAYLOAD_SIZE = 100 * 1024;\n",
              "\n",
              "function _uploadFiles(inputId, outputId) {\n",
              "  const steps = uploadFilesStep(inputId, outputId);\n",
              "  const outputElement = document.getElementById(outputId);\n",
              "  // Cache steps on the outputElement to make it available for the next call\n",
              "  // to uploadFilesContinue from Python.\n",
              "  outputElement.steps = steps;\n",
              "\n",
              "  return _uploadFilesContinue(outputId);\n",
              "}\n",
              "\n",
              "// This is roughly an async generator (not supported in the browser yet),\n",
              "// where there are multiple asynchronous steps and the Python side is going\n",
              "// to poll for completion of each step.\n",
              "// This uses a Promise to block the python side on completion of each step,\n",
              "// then passes the result of the previous step as the input to the next step.\n",
              "function _uploadFilesContinue(outputId) {\n",
              "  const outputElement = document.getElementById(outputId);\n",
              "  const steps = outputElement.steps;\n",
              "\n",
              "  const next = steps.next(outputElement.lastPromiseValue);\n",
              "  return Promise.resolve(next.value.promise).then((value) => {\n",
              "    // Cache the last promise value to make it available to the next\n",
              "    // step of the generator.\n",
              "    outputElement.lastPromiseValue = value;\n",
              "    return next.value.response;\n",
              "  });\n",
              "}\n",
              "\n",
              "/**\n",
              " * Generator function which is called between each async step of the upload\n",
              " * process.\n",
              " * @param {string} inputId Element ID of the input file picker element.\n",
              " * @param {string} outputId Element ID of the output display.\n",
              " * @return {!Iterable<!Object>} Iterable of next steps.\n",
              " */\n",
              "function* uploadFilesStep(inputId, outputId) {\n",
              "  const inputElement = document.getElementById(inputId);\n",
              "  inputElement.disabled = false;\n",
              "\n",
              "  const outputElement = document.getElementById(outputId);\n",
              "  outputElement.innerHTML = '';\n",
              "\n",
              "  const pickedPromise = new Promise((resolve) => {\n",
              "    inputElement.addEventListener('change', (e) => {\n",
              "      resolve(e.target.files);\n",
              "    });\n",
              "  });\n",
              "\n",
              "  const cancel = document.createElement('button');\n",
              "  inputElement.parentElement.appendChild(cancel);\n",
              "  cancel.textContent = 'Cancel upload';\n",
              "  const cancelPromise = new Promise((resolve) => {\n",
              "    cancel.onclick = () => {\n",
              "      resolve(null);\n",
              "    };\n",
              "  });\n",
              "\n",
              "  // Wait for the user to pick the files.\n",
              "  const files = yield {\n",
              "    promise: Promise.race([pickedPromise, cancelPromise]),\n",
              "    response: {\n",
              "      action: 'starting',\n",
              "    }\n",
              "  };\n",
              "\n",
              "  cancel.remove();\n",
              "\n",
              "  // Disable the input element since further picks are not allowed.\n",
              "  inputElement.disabled = true;\n",
              "\n",
              "  if (!files) {\n",
              "    return {\n",
              "      response: {\n",
              "        action: 'complete',\n",
              "      }\n",
              "    };\n",
              "  }\n",
              "\n",
              "  for (const file of files) {\n",
              "    const li = document.createElement('li');\n",
              "    li.append(span(file.name, {fontWeight: 'bold'}));\n",
              "    li.append(span(\n",
              "        `(${file.type || 'n/a'}) - ${file.size} bytes, ` +\n",
              "        `last modified: ${\n",
              "            file.lastModifiedDate ? file.lastModifiedDate.toLocaleDateString() :\n",
              "                                    'n/a'} - `));\n",
              "    const percent = span('0% done');\n",
              "    li.appendChild(percent);\n",
              "\n",
              "    outputElement.appendChild(li);\n",
              "\n",
              "    const fileDataPromise = new Promise((resolve) => {\n",
              "      const reader = new FileReader();\n",
              "      reader.onload = (e) => {\n",
              "        resolve(e.target.result);\n",
              "      };\n",
              "      reader.readAsArrayBuffer(file);\n",
              "    });\n",
              "    // Wait for the data to be ready.\n",
              "    let fileData = yield {\n",
              "      promise: fileDataPromise,\n",
              "      response: {\n",
              "        action: 'continue',\n",
              "      }\n",
              "    };\n",
              "\n",
              "    // Use a chunked sending to avoid message size limits. See b/62115660.\n",
              "    let position = 0;\n",
              "    do {\n",
              "      const length = Math.min(fileData.byteLength - position, MAX_PAYLOAD_SIZE);\n",
              "      const chunk = new Uint8Array(fileData, position, length);\n",
              "      position += length;\n",
              "\n",
              "      const base64 = btoa(String.fromCharCode.apply(null, chunk));\n",
              "      yield {\n",
              "        response: {\n",
              "          action: 'append',\n",
              "          file: file.name,\n",
              "          data: base64,\n",
              "        },\n",
              "      };\n",
              "\n",
              "      let percentDone = fileData.byteLength === 0 ?\n",
              "          100 :\n",
              "          Math.round((position / fileData.byteLength) * 100);\n",
              "      percent.textContent = `${percentDone}% done`;\n",
              "\n",
              "    } while (position < fileData.byteLength);\n",
              "  }\n",
              "\n",
              "  // All done.\n",
              "  yield {\n",
              "    response: {\n",
              "      action: 'complete',\n",
              "    }\n",
              "  };\n",
              "}\n",
              "\n",
              "scope.google = scope.google || {};\n",
              "scope.google.colab = scope.google.colab || {};\n",
              "scope.google.colab._files = {\n",
              "  _uploadFiles,\n",
              "  _uploadFilesContinue,\n",
              "};\n",
              "})(self);\n",
              "</script> "
            ]
          },
          "metadata": {}
        },
        {
          "output_type": "stream",
          "name": "stdout",
          "text": [
            "Saving kaggle.json to kaggle.json\n"
          ]
        },
        {
          "output_type": "execute_result",
          "data": {
            "text/plain": [
              "{'kaggle.json': b'{\"username\":\"vaibhavm31\",\"key\":\"8d5952d48a3132cc1ada26483aa2039e\"}'}"
            ]
          },
          "metadata": {},
          "execution_count": 4
        }
      ]
    },
    {
      "cell_type": "code",
      "metadata": {
        "id": "gvxYjg_i248Z"
      },
      "source": [
        "def get_data():\n",
        "  !pip install -q kaggle\n",
        "  !mkdir -p ~/.kaggle\n",
        "  !cp kaggle.json ~/.kaggle/\n",
        "  !chmod 600 /root/.kaggle/kaggle.json\n",
        "  !kaggle competitions download -c jigsaw-unintended-bias-in-toxicity-classification -p /content\n",
        "  !unzip \\*.zip"
      ],
      "execution_count": 5,
      "outputs": []
    },
    {
      "cell_type": "code",
      "metadata": {
        "id": "1If2K4Y529pg",
        "outputId": "fd6f2eac-39c6-496b-88c7-fab3100e3631",
        "colab": {
          "base_uri": "https://localhost:8080/"
        }
      },
      "source": [
        "get_data()"
      ],
      "execution_count": 6,
      "outputs": [
        {
          "output_type": "stream",
          "name": "stdout",
          "text": [
            "Downloading jigsaw-unintended-bias-in-toxicity-classification.zip to /content\n",
            " 98% 709M/723M [00:05<00:00, 146MB/s]\n",
            "100% 723M/723M [00:05<00:00, 131MB/s]\n",
            "Archive:  jigsaw-unintended-bias-in-toxicity-classification.zip\n",
            "  inflating: all_data.csv            \n",
            "  inflating: identity_individual_annotations.csv  \n",
            "  inflating: sample_submission.csv   \n",
            "  inflating: test.csv                \n",
            "  inflating: test_private_expanded.csv  \n",
            "  inflating: test_public_expanded.csv  \n",
            "  inflating: toxicity_individual_annotations.csv  \n",
            "  inflating: train.csv               \n"
          ]
        }
      ]
    },
    {
      "cell_type": "code",
      "metadata": {
        "id": "bOtNqj_jX-y0"
      },
      "source": [
        "from google.colab import drive\n",
        "drive.mount('/content/gdrive/')"
      ],
      "execution_count": null,
      "outputs": []
    },
    {
      "cell_type": "markdown",
      "metadata": {
        "id": "swOwo6447mDV"
      },
      "source": [
        "# 3. Imports"
      ]
    },
    {
      "cell_type": "code",
      "metadata": {
        "id": "hHHydsgC6M-1"
      },
      "source": [
        "import numpy as np\n",
        "import pandas as pd\n",
        "import matplotlib.pyplot as plt\n",
        "import seaborn as sns\n",
        "import warnings\n",
        "import pickle\n",
        "from tqdm import tqdm\n",
        "from wordcloud import WordCloud\n",
        "\n",
        "\n",
        "from sklearn.model_selection import train_test_split\n",
        "from sklearn.feature_extraction.text import TfidfVectorizer\n",
        "from sklearn.linear_model import SGDClassifier\n",
        "from sklearn.calibration import CalibratedClassifierCV\n",
        "from sklearn import metrics\n",
        "from sklearn.metrics import roc_auc_score,roc_curve,auc,confusion_matrix,classification_report\n",
        "%matplotlib inline\n",
        "warnings.filterwarnings(\"ignore\")\n",
        "from IPython.display import Image,YouTubeVideo,HTML\n",
        "\n",
        "#KERAS Import\n",
        "from keras.models import Sequential, Model\n",
        "from keras.utils import to_categorical,plot_model\n",
        "from keras.layers import Dense, Activation\n",
        "from tensorflow.keras.layers import BatchNormalization\n",
        "from keras.initializers import he_normal\n",
        "from keras.preprocessing.text import Tokenizer\n",
        "from keras.preprocessing import sequence\n",
        "from keras.layers import Dropout\n",
        "from keras.layers import Embedding, LSTM, GRU, MaxPooling1D, Flatten, Input, concatenate, Conv1D, GlobalMaxPool1D, SpatialDropout1D, GlobalMaxPooling1D, Bidirectional, GlobalAveragePooling1D, add\n",
        "from keras.regularizers import l2\n",
        "from keras.optimizers import Adam\n",
        "from keras.initializers import Orthogonal\n",
        "from keras.preprocessing.text import one_hot\n",
        "from keras.constraints import max_norm\n",
        "# from tensorboardcolab import TensorBoardColab, TensorBoardColabCallback\n",
        "\n",
        "#for attention mechanism\n",
        "from keras import backend as K\n",
        "#from keras.engine.topology import Layer\n",
        "from keras import initializers, regularizers, constraints, optimizers, layers"
      ],
      "execution_count": 7,
      "outputs": []
    },
    {
      "cell_type": "code",
      "source": [
        "!git clone https://github.com/ellamguest/online-misogyny-eacl2021.git"
      ],
      "metadata": {
        "colab": {
          "base_uri": "https://localhost:8080/"
        },
        "id": "tcluWdDlHXA0",
        "outputId": "61e576df-6c82-4786-c9dc-e3fcc9beaafa"
      },
      "execution_count": null,
      "outputs": [
        {
          "output_type": "stream",
          "name": "stdout",
          "text": [
            "Cloning into 'online-misogyny-eacl2021'...\n",
            "remote: Enumerating objects: 195, done.\u001b[K\n",
            "remote: Counting objects: 100% (195/195), done.\u001b[K\n",
            "remote: Compressing objects: 100% (185/185), done.\u001b[K\n",
            "remote: Total 195 (delta 10), reused 190 (delta 8), pack-reused 0\u001b[K\n",
            "Receiving objects: 100% (195/195), 15.08 MiB | 16.41 MiB/s, done.\n",
            "Resolving deltas: 100% (10/10), done.\n"
          ]
        }
      ]
    },
    {
      "cell_type": "code",
      "metadata": {
        "id": "fshhxCTS84X6",
        "colab": {
          "base_uri": "https://localhost:8080/"
        },
        "outputId": "52e4e9f9-b608-4a22-ed0f-8f79aa212e27"
      },
      "source": [
        "# df = pd.read_csv('train.csv')\n",
        "# df.head()\n",
        "df_l = pd.read_csv(\"final_labels.csv\", sep=',', encoding='utf-8', dtype = str, keep_default_na=False, skip_blank_lines=False, converters={'body':lambda x:x.replace('/n','')})\n",
        "\n",
        "# df2 = df2.loc[df2['male'] > 0.0]\n",
        "len(df_l.head())\n"
      ],
      "execution_count": null,
      "outputs": [
        {
          "output_type": "execute_result",
          "data": {
            "text/plain": [
              "5"
            ]
          },
          "metadata": {},
          "execution_count": 88
        }
      ]
    },
    {
      "cell_type": "code",
      "source": [
        "df = pd.read_csv('train.csv')\n",
        "# we only care about male and female\n"
      ],
      "metadata": {
        "id": "syWE3Zfqvvly"
      },
      "execution_count": 14,
      "outputs": []
    },
    {
      "cell_type": "code",
      "source": [
        "df = df.loc[(df['male'] > 0.5) | (df['female'] > 0.5) ]"
      ],
      "metadata": {
        "id": "ZVBxIcFpx913"
      },
      "execution_count": 17,
      "outputs": []
    },
    {
      "cell_type": "code",
      "source": [
        "df"
      ],
      "metadata": {
        "id": "HPIdJqPEh6n_"
      },
      "execution_count": null,
      "outputs": []
    },
    {
      "cell_type": "code",
      "metadata": {
        "id": "xfbw9RVtTvQg"
      },
      "source": [
        "test_df = pd.read_csv('test.csv')"
      ],
      "execution_count": 20,
      "outputs": []
    },
    {
      "cell_type": "code",
      "metadata": {
        "id": "v7aSRbyI9DiV",
        "outputId": "5ca43497-eb25-4644-bd2c-fc82df1d313b",
        "colab": {
          "base_uri": "https://localhost:8080/"
        }
      },
      "source": [
        "print(df.iloc[28]['comment_text'])\n",
        "print(\"Toxicity Level: \",df.iloc[28]['target'])"
      ],
      "execution_count": 21,
      "outputs": [
        {
          "output_type": "stream",
          "name": "stdout",
          "text": [
            "Girl Scouts should set up tables outside of pot retailers.\n",
            "Toxicity Level:  0.0\n"
          ]
        }
      ]
    },
    {
      "cell_type": "code",
      "metadata": {
        "id": "WSbHnc4dGUy_",
        "outputId": "a0920623-9864-4db9-e57e-25f0f7e0f102",
        "colab": {
          "base_uri": "https://localhost:8080/"
        }
      },
      "source": [
        "print(df.iloc[4]['comment_text'])\n",
        "print(\"Toxicity Level: \",df.iloc[4]['target'])"
      ],
      "execution_count": 22,
      "outputs": [
        {
          "output_type": "stream",
          "name": "stdout",
          "text": [
            "To meet these people with threats of violence and/or humiliation, or anything other than personal dignity is playing right into their hand or opening \"this side\" up to opposition, and adding energy to their game. I agree in shutting off power and phone, jamming wi-if and blocking any access into the area. You didn't plan well and forgot necessities? Tough. What happens when you go camping and forgot to pack whatever? You go without, borrow from your mates, (if they're willing to share) or cut the trip short. Y'all got yourselves into this jam, don't be expecting for those you are flipping off to be accomadating. As a sign in a supply house said, \"Poor planning on your part, does not constitute an emergency on ours\". Read 'em and weep, girls. Oh, and I'd say, last one out, turn down the heat and turn off the lights, but if it were up to me, you wouldn't have to worry about it\n",
            "Toxicity Level:  0.2\n"
          ]
        }
      ]
    },
    {
      "cell_type": "code",
      "metadata": {
        "id": "R9Go4e4IRuel"
      },
      "source": [
        "# https://stackoverflow.com/a/47091490/4084039\n",
        "import re\n",
        "\n",
        "def decontracted(phrase):\n",
        "    # specific\n",
        "    phrase = re.sub(r\"won't\", \"will not\", phrase)\n",
        "    phrase = re.sub(r\"can\\'t\", \"can not\", phrase)\n",
        "\n",
        "    # general\n",
        "    phrase = re.sub(r\"n\\'t\", \" not\", phrase)\n",
        "    phrase = re.sub(r\"\\'re\", \" are\", phrase)\n",
        "    phrase = re.sub(r\"\\'s\", \" is\", phrase)\n",
        "    phrase = re.sub(r\"\\'d\", \" would\", phrase)\n",
        "    phrase = re.sub(r\"\\'ll\", \" will\", phrase)\n",
        "    phrase = re.sub(r\"\\'t\", \" not\", phrase)\n",
        "    phrase = re.sub(r\"\\'ve\", \" have\", phrase)\n",
        "    phrase = re.sub(r\"\\'m\", \" am\", phrase)\n",
        "    return phrase"
      ],
      "execution_count": 23,
      "outputs": []
    },
    {
      "cell_type": "code",
      "metadata": {
        "id": "3mJ6fQmuU5Wg"
      },
      "source": [
        "# https://gist.github.com/sebleier/554280\n",
        "stopwords= ['i', 'me', 'my', 'myself', 'we', 'our', 'ours', 'ourselves', 'you', \"you're\", \"you've\",\\\n",
        "            \"you'll\", \"you'd\", 'your', 'yours', 'yourself', 'yourselves', 'he', 'him', 'his', 'himself', \\\n",
        "            'she', \"she's\", 'her', 'hers', 'herself', 'it', \"it's\", 'its', 'itself', 'they', 'them', 'their',\\\n",
        "            'theirs', 'themselves', 'what', 'which', 'who', 'whom', 'this', 'that', \"that'll\", 'these', 'those', \\\n",
        "            'am', 'is', 'are', 'was', 'were', 'be', 'been', 'being', 'have', 'has', 'had', 'having', 'do', 'does', \\\n",
        "            'did', 'doing', 'a', 'an', 'the', 'and', 'but', 'if', 'or', 'because', 'as', 'until', 'while', 'of', \\\n",
        "            'at', 'by', 'for', 'with', 'about', 'against', 'between', 'into', 'through', 'during', 'before', 'after',\\\n",
        "            'above', 'below', 'to', 'from', 'up', 'down', 'in', 'out', 'on', 'off', 'over', 'under', 'again', 'further',\\\n",
        "            'then', 'once', 'here', 'there', 'when', 'where', 'why', 'how', 'all', 'any', 'both', 'each', 'few', 'more',\\\n",
        "            'most', 'other', 'some', 'such', 'only', 'own', 'same', 'so', 'than', 'too', 'very', \\\n",
        "            's', 't', 'can', 'will', 'just', 'don', \"don't\", 'should', \"should've\", 'now', 'd', 'll', 'm', 'o', 're', \\\n",
        "            've', 'y', 'ain', 'aren', \"aren't\", 'couldn', \"couldn't\", 'didn', \"didn't\", 'doesn', \"doesn't\", 'hadn',\\\n",
        "            \"hadn't\", 'hasn', \"hasn't\", 'haven', \"haven't\", 'isn', \"isn't\", 'ma', 'mightn', \"mightn't\", 'mustn',\\\n",
        "            \"mustn't\", 'needn', \"needn't\", 'shan', \"shan't\", 'shouldn', \"shouldn't\", 'wasn', \"wasn't\", 'weren', \"weren't\", \\\n",
        "            'won', \"won't\", 'wouldn', \"wouldn't\"]"
      ],
      "execution_count": 24,
      "outputs": []
    },
    {
      "cell_type": "code",
      "metadata": {
        "id": "rqKUG9sRU7fM",
        "outputId": "9e19ac46-21e4-4819-d9b8-33677a0c2f65",
        "colab": {
          "base_uri": "https://localhost:8080/"
        }
      },
      "source": [
        "# Combining all the above statemennts \n",
        "preprocessed_comments = []\n",
        "# tqdm is for printing the status bar\n",
        "for sentence in tqdm(df['comment_text'].values):\n",
        "    sent = decontracted(sentence)\n",
        "    sent = sent.replace('\\\\r', ' ')\n",
        "    sent = sent.replace('\\\\\"', ' ')\n",
        "    sent = sent.replace('\\\\n', ' ')\n",
        "    sent = re.sub('[^A-Za-z0-9]+', ' ', sent)\n",
        "    # https://gist.github.com/sebleier/554280\n",
        "    sent = ' '.join(e for e in sent.split() )\n",
        "    preprocessed_comments.append(sent.lower().strip())"
      ],
      "execution_count": 25,
      "outputs": [
        {
          "output_type": "stream",
          "name": "stderr",
          "text": [
            "100%|██████████| 74113/74113 [00:05<00:00, 14214.64it/s]\n"
          ]
        }
      ]
    },
    {
      "cell_type": "code",
      "metadata": {
        "id": "LuKiGutzBkqP"
      },
      "source": [
        "df['comment_text'] = preprocessed_comments"
      ],
      "execution_count": 27,
      "outputs": []
    },
    {
      "cell_type": "code",
      "metadata": {
        "id": "tuVY4mS7T5N6",
        "outputId": "87750371-11b4-48bf-dd5d-245e7f206a19",
        "colab": {
          "base_uri": "https://localhost:8080/"
        }
      },
      "source": [
        "preprocessed_comments_test = []\n",
        "# tqdm is for printing the status bar\n",
        "for sentence in tqdm(test_df['comment_text'].values):\n",
        "    sent = decontracted(sentence)\n",
        "    sent = sent.replace('\\\\r', ' ')\n",
        "    sent = sent.replace('\\\\\"', ' ')\n",
        "    sent = sent.replace('\\\\n', ' ')\n",
        "    sent = re.sub('[^A-Za-z0-9]+', ' ', sent)\n",
        "    # https://gist.github.com/sebleier/554280\n",
        "    sent = ' '.join(e for e in sent.split())\n",
        "    preprocessed_comments_test.append(sent.lower().strip())"
      ],
      "execution_count": 29,
      "outputs": [
        {
          "output_type": "stream",
          "name": "stderr",
          "text": [
            "100%|██████████| 97320/97320 [00:03<00:00, 27847.63it/s]\n"
          ]
        }
      ]
    },
    {
      "cell_type": "code",
      "metadata": {
        "id": "RCFr8xzIUCpw"
      },
      "source": [
        "test_df['comment_text'] = preprocessed_comments_test"
      ],
      "execution_count": 31,
      "outputs": []
    },
    {
      "cell_type": "code",
      "metadata": {
        "id": "aIocFbC8G3Fe"
      },
      "source": [
        "train_len = len(df.index)"
      ],
      "execution_count": 32,
      "outputs": []
    },
    {
      "cell_type": "code",
      "metadata": {
        "id": "YJ_EcOSy_9Ei",
        "colab": {
          "base_uri": "https://localhost:8080/"
        },
        "outputId": "bdcdc40a-c8a9-4613-ab98-79aea7eb3a7b"
      },
      "source": [
        "miss_val_train_df = df.isnull().sum(axis=0) / train_len\n",
        "miss_val_train_df = miss_val_train_df[miss_val_train_df > 0] * 100\n",
        "miss_val_train_df"
      ],
      "execution_count": 33,
      "outputs": [
        {
          "output_type": "execute_result",
          "data": {
            "text/plain": [
              "parent_id    44.904403\n",
              "dtype: float64"
            ]
          },
          "metadata": {},
          "execution_count": 33
        }
      ]
    },
    {
      "cell_type": "markdown",
      "metadata": {
        "id": "XWihW-oIRBko"
      },
      "source": [
        "# 6. Data Preprocessing"
      ]
    },
    {
      "cell_type": "code",
      "metadata": {
        "id": "nASMETUz_3pT"
      },
      "source": [
        "identity_columns = ['male', 'female'] # 'homosexual_gay_or_lesbian', 'christian', 'jewish','muslim', 'black', 'white', 'psychiatric_or_mental_illness']"
      ],
      "execution_count": 34,
      "outputs": []
    },
    {
      "cell_type": "code",
      "metadata": {
        "id": "knpguK71PDyQ"
      },
      "source": [
        "for column in identity_columns + ['target']:\n",
        "    df[column] = np.where(df[column] >= 0.5, True, False)"
      ],
      "execution_count": 35,
      "outputs": []
    },
    {
      "cell_type": "code",
      "metadata": {
        "id": "x1xiAFBOuMCM"
      },
      "source": [
        "# Target variable as well\n",
        "y = df['target'].values"
      ],
      "execution_count": 36,
      "outputs": []
    },
    {
      "cell_type": "code",
      "source": [
        "y"
      ],
      "metadata": {
        "colab": {
          "base_uri": "https://localhost:8080/"
        },
        "id": "WqlprZTYPqVz",
        "outputId": "644cde6e-3ef4-407e-dde5-e4d753190e67"
      },
      "execution_count": 37,
      "outputs": [
        {
          "output_type": "execute_result",
          "data": {
            "text/plain": [
              "array([False,  True, False, ..., False, False, False])"
            ]
          },
          "metadata": {},
          "execution_count": 37
        }
      ]
    },
    {
      "cell_type": "code",
      "metadata": {
        "id": "1N53ky3Ytcum"
      },
      "source": [
        "train_df, cv_df, y_train, y_cv = train_test_split(df, y, test_size=0.2, random_state=42)"
      ],
      "execution_count": 38,
      "outputs": []
    },
    {
      "cell_type": "code",
      "metadata": {
        "id": "EE4GQVxTGQCH"
      },
      "source": [
        "vectorizer = TfidfVectorizer(ngram_range=(1,2),\n",
        "               min_df=3, max_df=0.9, strip_accents='unicode', use_idf=1,\n",
        "               smooth_idf=1, sublinear_tf=1 )"
      ],
      "execution_count": 39,
      "outputs": []
    },
    {
      "cell_type": "code",
      "metadata": {
        "id": "C3wKAELzGP_s"
      },
      "source": [
        "train_tfidf = vectorizer.fit_transform(train_df[\"comment_text\"])\n",
        "cv_tfidf = vectorizer.transform(cv_df[\"comment_text\"])\n",
        "test_tfidf = vectorizer.transform(test_df[\"comment_text\"])"
      ],
      "execution_count": 40,
      "outputs": []
    },
    {
      "cell_type": "code",
      "metadata": {
        "id": "xIDttpJWXEVE"
      },
      "source": [
        "#https://gist.github.com/shaypal5/94c53d765083101efc0240d776a23823\n",
        "def print_confusion_matrix(confusion_matrix, class_names, figsize = (6,4), fontsize=14):\n",
        "    df_cm = pd.DataFrame(\n",
        "        confusion_matrix,index=class_names, columns=class_names\n",
        "    )\n",
        "    fig = plt.figure(figsize=figsize)\n",
        "    heatmap = sns.heatmap(df_cm, annot=True, fmt=\"d\")\n",
        "    heatmap.yaxis.set_ticklabels(heatmap.yaxis.get_ticklabels(), rotation=0, ha='right', fontsize=fontsize)\n",
        "    heatmap.xaxis.set_ticklabels(heatmap.xaxis.get_ticklabels(), rotation=45, ha='right', fontsize=fontsize)\n",
        "    plt.ylabel('Actual label')\n",
        "    plt.xlabel('Predicted label')"
      ],
      "execution_count": 41,
      "outputs": []
    },
    {
      "cell_type": "code",
      "metadata": {
        "id": "SdpeNkaAXIOw"
      },
      "source": [
        "def threshold_based_prediction(proba,threshold,tpr,fpr):\n",
        "    thres = threshold[np.argmax(fpr*(1-tpr))]\n",
        "    predictions = []\n",
        "    for i in proba:\n",
        "        if i>=thres:\n",
        "            predictions.append(1)\n",
        "        else:\n",
        "            predictions.append(0)\n",
        "    return predictions"
      ],
      "execution_count": 42,
      "outputs": []
    },
    {
      "cell_type": "markdown",
      "metadata": {
        "id": "qsuFCZpcUyPp"
      },
      "source": [
        "# 7. Baseline - Logistic Regression model"
      ]
    },
    {
      "cell_type": "markdown",
      "metadata": {
        "id": "Al2rigfNt6He"
      },
      "source": [
        "### Using TFIDF vectorized data"
      ]
    },
    {
      "cell_type": "code",
      "metadata": {
        "id": "Au2D_jfZYdI2",
        "outputId": "a8aef8a1-2857-48db-ea38-7f9272cf00f5",
        "colab": {
          "base_uri": "https://localhost:8080/"
        }
      },
      "source": [
        "alpha = [10 ** x for x in range(-5, 2)]\n",
        "auc_array_train=[]\n",
        "auc_array_cv=[]\n",
        "for i in alpha:\n",
        "  clf = SGDClassifier(alpha=i, penalty='l2', loss='log', random_state=5,class_weight='balanced')\n",
        "  clf.fit(train_tfidf, y_train)\n",
        "  sig_clf = CalibratedClassifierCV(clf, method=\"sigmoid\")\n",
        "  sig_clf.fit(train_tfidf, y_train)\n",
        "  \n",
        "    \n",
        "    \n",
        "  predict_y_train = sig_clf.predict_proba(train_tfidf)[:,1]\n",
        "  predict_y = sig_clf.predict_proba(cv_tfidf)[:,1]\n",
        "  auc_array_train.append(roc_auc_score(y_train, predict_y_train))\n",
        "  auc_array_cv.append(roc_auc_score(y_cv, predict_y))\n",
        "  print('For values of alpha = ', i, \"The auc score on CV is:\",roc_auc_score(y_cv, predict_y))"
      ],
      "execution_count": 43,
      "outputs": [
        {
          "output_type": "stream",
          "name": "stdout",
          "text": [
            "For values of alpha =  1e-05 The auc score on CV is: 0.861585503882638\n"
          ]
        }
      ]
    },
    {
      "cell_type": "code",
      "metadata": {
        "id": "p3tkfFTq9y8x",
        "outputId": "6b8f91c5-fbeb-4947-cc82-fe17f2085e2a",
        "colab": {
          "base_uri": "https://localhost:8080/",
          "height": 295
        }
      },
      "source": [
        "# https://stackoverflow.com/questions/25009284/how-to-plot-roc-curve-in-python\n",
        "fpr_train, tpr_train, threshold_train = roc_curve(y_train, predict_y_train)\n",
        "fpr_test, tpr_test, threshold_test = roc_curve(y_cv, predict_y)\n",
        "\n",
        "roc_auc_train = auc(fpr_train, tpr_train)\n",
        "roc_auc_test = auc(fpr_test, tpr_test)\n",
        "\n",
        "\n",
        "plt.title('Receiver Operating Characteristic')\n",
        "\n",
        "plt.plot(fpr_train, tpr_train, 'b', label = 'Training AUC = %0.2f' % roc_auc_train)\n",
        "plt.plot(fpr_test, tpr_test, 'r', label = 'Test AUC = %0.2f' % roc_auc_test)\n",
        "\n",
        "plt.legend(loc = 'lower right')\n",
        "plt.plot([0, 1], [0, 1],'g--')\n",
        "plt.xlim([0, 1])\n",
        "plt.ylim([0, 1])\n",
        "plt.ylabel('True Positive Rate')\n",
        "plt.xlabel('False Positive Rate')\n",
        "plt.show()"
      ],
      "execution_count": 44,
      "outputs": [
        {
          "output_type": "display_data",
          "data": {
            "text/plain": [
              "<Figure size 432x288 with 1 Axes>"
            ],
            "image/png": "[encoded data removed]"
          },
          "metadata": {
            "needs_background": "light"
          }
        }
      ]
    },
    {
      "cell_type": "code",
      "source": [],
      "metadata": {
        "id": "eLjPVj4dyNVf"
      },
      "execution_count": null,
      "outputs": []
    },
    {
      "cell_type": "code",
      "metadata": {
        "id": "0J1xm77F40nX",
        "colab": {
          "base_uri": "https://localhost:8080/"
        },
        "outputId": "ffa5487a-8e47-4637-8296-94af5d0973d2"
      },
      "source": [
        "clf = SGDClassifier(alpha=0.00001, penalty='l2', loss='log', random_state=42,class_weight='balanced')\n",
        "clf.fit(train_tfidf, y_train)\n",
        "sig_clf = CalibratedClassifierCV(clf, method=\"sigmoid\")\n",
        "sig_clf.fit(train_tfidf, y_train)"
      ],
      "execution_count": null,
      "outputs": [
        {
          "output_type": "execute_result",
          "data": {
            "text/plain": [
              "CalibratedClassifierCV(base_estimator=SGDClassifier(alpha=1e-05,\n",
              "                                                    class_weight='balanced',\n",
              "                                                    loss='log',\n",
              "                                                    random_state=42))"
            ]
          },
          "metadata": {},
          "execution_count": 60
        }
      ]
    },
    {
      "cell_type": "markdown",
      "metadata": {
        "id": "CbyIccB7Kiik"
      },
      "source": [
        "### Results"
      ]
    },
    {
      "cell_type": "code",
      "metadata": {
        "id": "tgJzSZPQXee1"
      },
      "source": [
        "predtrain = sig_clf.predict_proba(train_tfidf)[:,1]\n",
        "print(len(predtrain))\n",
        "train_df['pred_log'] = predtrain >= 0.5\n",
        "predcv = sig_clf.predict_proba(cv_tfidf)[:,1]\n",
        "pred = sig_clf.predict_proba(test_tfidf)[:,1]\n",
        "train_df"
      ],
      "execution_count": null,
      "outputs": []
    },
    {
      "cell_type": "code",
      "source": [
        "cv_df['pred_log'] = predcv >= 0.5"
      ],
      "metadata": {
        "id": "qnFCPty5BY1_"
      },
      "execution_count": null,
      "outputs": []
    },
    {
      "cell_type": "code",
      "source": [
        "train_df.to_csv('pop_model_2.csv', index=False)\n"
      ],
      "metadata": {
        "id": "kqS3Fhy6_E-1"
      },
      "execution_count": null,
      "outputs": []
    },
    {
      "cell_type": "code",
      "source": [],
      "metadata": {
        "id": "8qP8n34IBfJK"
      },
      "execution_count": null,
      "outputs": []
    },
    {
      "cell_type": "code",
      "metadata": {
        "id": "TV9sAoiSXT4C",
        "outputId": "189e6698-8d7b-4885-bd00-01b4e17e73d2",
        "colab": {
          "base_uri": "https://localhost:8080/",
          "height": 326
        }
      },
      "source": [
        "predtrain = threshold_based_prediction(predtrain,threshold_train,tpr_train,fpr_train)\n",
        "cm = confusion_matrix(y_train, predtrain)\n",
        "print(\"\\tTRAIN DATA CONFUSION MATRIX\")\n",
        "print_confusion_matrix(cm,class_names=['NO','YES'])"
      ],
      "execution_count": null,
      "outputs": [
        {
          "output_type": "stream",
          "name": "stdout",
          "text": [
            "\tTRAIN DATA CONFUSION MATRIX\n"
          ]
        },
        {
          "output_type": "display_data",
          "data": {
            "text/plain": [
              "<Figure size 432x288 with 2 Axes>"
            ],
            "image/png": "[encoded data removed]"
          },
          "metadata": {
            "needs_background": "light"
          }
        }
      ]
    },
    {
      "cell_type": "code",
      "metadata": {
        "id": "PAcXn3v2YF0S",
        "outputId": "0562b1e1-fc2a-47a4-a9be-311acce7eb27",
        "colab": {
          "base_uri": "https://localhost:8080/",
          "height": 315
        }
      },
      "source": [
        "predcv = threshold_based_prediction(predcv,threshold_test,tpr_test,fpr_test)\n",
        "cm = confusion_matrix(y_cv, predcv)\n",
        "print(\"\\tTEST DATA CONFUSION MATRIX\")\n",
        "print_confusion_matrix(cm,class_names=['NO','YES'])"
      ],
      "execution_count": null,
      "outputs": [
        {
          "output_type": "stream",
          "name": "stdout",
          "text": [
            "\tTEST DATA CONFUSION MATRIX\n"
          ]
        },
        {
          "output_type": "display_data",
          "data": {
            "text/plain": [
              "<Figure size 432x288 with 2 Axes>"
            ],
            "image/png": "[encoded data removed]"
          },
          "metadata": {
            "needs_background": "light"
          }
        }
      ]
    },
    {
      "cell_type": "markdown",
      "metadata": {
        "id": "JpBo2bo6Kskx"
      },
      "source": [
        "### AUC scores"
      ]
    },
    {
      "cell_type": "code",
      "metadata": {
        "id": "ilE5OHNdZQnC",
        "outputId": "1080ae4a-a3b6-4eb5-e879-90320eca4576",
        "colab": {
          "base_uri": "https://localhost:8080/"
        }
      },
      "source": [
        "auc = roc_auc_score(y_train, predtrain)\n",
        "print('\\nTRAIN AUC on CV data is %f' % (auc))"
      ],
      "execution_count": null,
      "outputs": [
        {
          "output_type": "stream",
          "name": "stdout",
          "text": [
            "\n",
            "TRAIN AUC on CV data is 0.869907\n"
          ]
        }
      ]
    },
    {
      "cell_type": "code",
      "metadata": {
        "id": "rQDgyOcPY4-D",
        "outputId": "e351a5d5-cb51-4686-c27e-6599303ced95",
        "colab": {
          "base_uri": "https://localhost:8080/"
        }
      },
      "source": [
        "auc = roc_auc_score(y_cv, predcv)\n",
        "print('\\nTEST AUC on CV data is %f' % (auc))"
      ],
      "execution_count": null,
      "outputs": [
        {
          "output_type": "stream",
          "name": "stdout",
          "text": [
            "\n",
            "TEST AUC on CV data is 0.856465\n"
          ]
        }
      ]
    },
    {
      "cell_type": "markdown",
      "metadata": {
        "id": "dkkg6uJaKvFI"
      },
      "source": [
        "### F1 Score"
      ]
    },
    {
      "cell_type": "code",
      "metadata": {
        "id": "W7LqMkhJa1G8",
        "outputId": "5dbd2308-3e66-4606-82d0-ca438913ae6c",
        "colab": {
          "base_uri": "https://localhost:8080/"
        }
      },
      "source": [
        "print(classification_report(y_cv,predcv))"
      ],
      "execution_count": null,
      "outputs": [
        {
          "output_type": "stream",
          "name": "stdout",
          "text": [
            "              precision    recall  f1-score   support\n",
            "\n",
            "       False       0.98      0.88      0.93    331897\n",
            "        True       0.38      0.83      0.52     29078\n",
            "\n",
            "    accuracy                           0.88    360975\n",
            "   macro avg       0.68      0.86      0.72    360975\n",
            "weighted avg       0.93      0.88      0.90    360975\n",
            "\n"
          ]
        }
      ]
    },
    {
      "cell_type": "markdown",
      "metadata": {
        "id": "rOkT_xB0JeUr"
      },
      "source": [
        "### Metrics definition"
      ]
    },
    {
      "cell_type": "code",
      "metadata": {
        "id": "qDA8ElGL85pF"
      },
      "source": [
        "# https://www.kaggle.com/c/jigsaw-unintended-bias-in-toxicity-classification/discussion/90986#latest-527331\n",
        "SUBGROUP_AUC = 'subgroup_auc'\n",
        "BPSN_AUC = 'bpsn_auc'  # stands for background positive, subgroup negative\n",
        "BNSP_AUC = 'bnsp_auc'  # stands for background negative, subgroup positive\n",
        "TOXICITY_COLUMN = 'target'\n",
        "\n",
        "def compute_auc(y_true, y_pred):\n",
        "    try:\n",
        "        return metrics.roc_auc_score(y_true, y_pred)\n",
        "    except ValueError:\n",
        "        return np.nan\n",
        "\n",
        "def compute_subgroup_auc(df, subgroup, label, model_name):\n",
        "    subgroup_examples = df[df[subgroup]]\n",
        "    return compute_auc(subgroup_examples[label], subgroup_examples[model_name])\n",
        "\n",
        "def compute_bpsn_auc(df, subgroup, label, model_name):\n",
        "    \"\"\"Computes the AUC of the within-subgroup negative examples and the background positive examples.\"\"\"\n",
        "    subgroup_negative_examples = df[df[subgroup] & ~df[label]]\n",
        "    non_subgroup_positive_examples = df[~df[subgroup] & df[label]]\n",
        "    examples = subgroup_negative_examples.append(non_subgroup_positive_examples)\n",
        "    return compute_auc(examples[label], examples[model_name])\n",
        "\n",
        "def compute_bnsp_auc(df, subgroup, label, model_name):\n",
        "    \"\"\"Computes the AUC of the within-subgroup positive examples and the background negative examples.\"\"\"\n",
        "    subgroup_positive_examples = df[df[subgroup] & df[label]]\n",
        "    non_subgroup_negative_examples = df[~df[subgroup] & ~df[label]]\n",
        "    examples = subgroup_positive_examples.append(non_subgroup_negative_examples)\n",
        "    return compute_auc(examples[label], examples[model_name])\n",
        "\n",
        "def compute_bias_metrics_for_model(dataset,\n",
        "                                   subgroups,\n",
        "                                   model,\n",
        "                                   label_col,\n",
        "                                   include_asegs=False):\n",
        "    \"\"\"Computes per-subgroup metrics for all subgroups and one model.\"\"\"\n",
        "    records = []\n",
        "    for subgroup in subgroups:\n",
        "        record = {\n",
        "            'subgroup': subgroup,\n",
        "            'subgroup_size': len(dataset[dataset[subgroup]])\n",
        "        }\n",
        "        record[SUBGROUP_AUC] = compute_subgroup_auc(dataset, subgroup, label_col, model)\n",
        "        record[BPSN_AUC] = compute_bpsn_auc(dataset, subgroup, label_col, model)\n",
        "        record[BNSP_AUC] = compute_bnsp_auc(dataset, subgroup, label_col, model)\n",
        "        records.append(record)\n",
        "    return pd.DataFrame(records).sort_values('subgroup_auc', ascending=True)"
      ],
      "execution_count": 45,
      "outputs": []
    },
    {
      "cell_type": "code",
      "metadata": {
        "id": "TRt6GhI8FNMo"
      },
      "source": [
        "def calculate_overall_auc(df, model_name):\n",
        "    true_labels = df[TOXICITY_COLUMN]\n",
        "    predicted_labels = df[model_name]\n",
        "    return metrics.roc_auc_score(true_labels, predicted_labels)\n",
        "\n",
        "def power_mean(series, p):\n",
        "    total = sum(np.power(series, p))\n",
        "    return np.power(total / len(series), 1 / p)\n",
        "\n",
        "def get_final_metric(bias_df, overall_auc, POWER=-5, OVERALL_MODEL_WEIGHT=0.25):\n",
        "    bias_score = np.average([\n",
        "        power_mean(bias_df[SUBGROUP_AUC], POWER),\n",
        "        power_mean(bias_df[BPSN_AUC], POWER),\n",
        "        power_mean(bias_df[BNSP_AUC], POWER)\n",
        "    ])\n",
        "    return (OVERALL_MODEL_WEIGHT * overall_auc) + ((1 - OVERALL_MODEL_WEIGHT) * bias_score)"
      ],
      "execution_count": 47,
      "outputs": []
    },
    {
      "cell_type": "code",
      "metadata": {
        "id": "_FNGVaG4mO7b"
      },
      "source": [
        "import keras\n",
        "MAX_VOCAB_SIZE = 100000\n",
        "TOXICITY_COLUMN = 'target'\n",
        "TEXT_COLUMN = 'comment_text'\n",
        "MAX_SEQUENCE_LENGTH = 300\n",
        "\n",
        "# Create a text tokenizer.\n",
        "tokenizer = Tokenizer(num_words=MAX_VOCAB_SIZE)\n",
        "tokenizer.fit_on_texts(train_df[TEXT_COLUMN])\n",
        "\n",
        "# All comments must be truncated or padded to be the same length.\n",
        "def padding_text(texts, tokenizer):\n",
        "    return keras.utils.pad_sequences(tokenizer.texts_to_sequences(texts), maxlen=MAX_SEQUENCE_LENGTH)"
      ],
      "execution_count": 48,
      "outputs": []
    },
    {
      "cell_type": "code",
      "metadata": {
        "id": "0u-k_mlgmNn9"
      },
      "source": [
        "train_text = padding_text(train_df[TEXT_COLUMN], tokenizer)\n",
        "train_y = to_categorical(train_df[TOXICITY_COLUMN])\n",
        "validate_text = padding_text(cv_df[TEXT_COLUMN], tokenizer)\n",
        "validate_y = to_categorical(cv_df[TOXICITY_COLUMN])"
      ],
      "execution_count": 49,
      "outputs": []
    },
    {
      "cell_type": "code",
      "metadata": {
        "id": "DleshnBhmOPB"
      },
      "source": [
        "NUM_EPOCHS = 10\n",
        "BATCH_SIZE = 512"
      ],
      "execution_count": 50,
      "outputs": []
    },
    {
      "cell_type": "code",
      "metadata": {
        "id": "xy8jIN1vrR7n",
        "colab": {
          "base_uri": "https://localhost:8080/"
        },
        "outputId": "0addb883-8145-4996-8684-f3595a47a186"
      },
      "source": [
        "# https://fasttext.cc/docs/en/english-vectors.html\n",
        "!wget https://dl.fbaipublicfiles.com/fasttext/vectors-english/crawl-300d-2M.vec.zip"
      ],
      "execution_count": 51,
      "outputs": [
        {
          "output_type": "stream",
          "name": "stdout",
          "text": [
            "--2022-12-16 02:38:25--  https://dl.fbaipublicfiles.com/fasttext/vectors-english/crawl-300d-2M.vec.zip\n",
            "Resolving dl.fbaipublicfiles.com (dl.fbaipublicfiles.com)... 104.22.74.142, 172.67.9.4, 104.22.75.142, ...\n",
            "Connecting to dl.fbaipublicfiles.com (dl.fbaipublicfiles.com)|104.22.74.142|:443... connected.\n",
            "HTTP request sent, awaiting response... 200 OK\n",
            "Length: 1523785255 (1.4G) [application/zip]\n",
            "Saving to: ‘crawl-300d-2M.vec.zip’\n",
            "\n",
            "crawl-300d-2M.vec.z 100%[===================>]   1.42G  35.3MB/s    in 36s     \n",
            "\n",
            "2022-12-16 02:39:02 (39.9 MB/s) - ‘crawl-300d-2M.vec.zip’ saved [1523785255/1523785255]\n",
            "\n"
          ]
        }
      ]
    },
    {
      "cell_type": "code",
      "metadata": {
        "id": "56YjOHGptldk",
        "outputId": "085840b0-3e4e-4fbc-8c03-29d6bc00fe73",
        "colab": {
          "base_uri": "https://localhost:8080/"
        }
      },
      "source": [
        "!unzip crawl*.zip"
      ],
      "execution_count": 52,
      "outputs": [
        {
          "output_type": "stream",
          "name": "stdout",
          "text": [
            "Archive:  crawl-300d-2M.vec.zip\n",
            "  inflating: crawl-300d-2M.vec       \n"
          ]
        }
      ]
    },
    {
      "cell_type": "markdown",
      "metadata": {
        "id": "fH73KNtGJ0v8"
      },
      "source": [
        "#### Creating the embedding matrix for the embedding layer"
      ]
    },
    {
      "cell_type": "code",
      "metadata": {
        "id": "vtxmLq22mOR2"
      },
      "source": [
        "embeddings_index = {}\n",
        "with open('crawl-300d-2M.vec' ,encoding='utf8') as f:\n",
        "  for line in f:\n",
        "    values = line.split()\n",
        "    word = values[0]\n",
        "    coefs = np.asarray(values[1:], dtype='float32')\n",
        "    embeddings_index[word] = coefs"
      ],
      "execution_count": 53,
      "outputs": []
    },
    {
      "cell_type": "code",
      "metadata": {
        "id": "lkRsSfu8vy50",
        "outputId": "c7697657-6168-4fef-9c5d-622a6bca1d27",
        "colab": {
          "base_uri": "https://localhost:8080/"
        }
      },
      "source": [
        "len(tokenizer.word_index)"
      ],
      "execution_count": 54,
      "outputs": [
        {
          "output_type": "execute_result",
          "data": {
            "text/plain": [
              "64629"
            ]
          },
          "metadata": {},
          "execution_count": 54
        }
      ]
    },
    {
      "cell_type": "code",
      "metadata": {
        "id": "3eitJHBLmOUT"
      },
      "source": [
        "embedding_matrix = np.zeros((len(tokenizer.word_index) + 1,300))\n",
        "num_words_in_embedding = 0\n",
        "for word, i in tokenizer.word_index.items():\n",
        "  embedding_vector = embeddings_index.get(word)\n",
        "  if embedding_vector is not None:\n",
        "    num_words_in_embedding += 1\n",
        "    # words not found in embedding index will be all-zeros.\n",
        "    embedding_matrix[i] = embedding_vector"
      ],
      "execution_count": 56,
      "outputs": []
    },
    {
      "cell_type": "code",
      "metadata": {
        "id": "fG0xKtI4mOW-",
        "outputId": "716a07c4-6d51-4aa0-8c44-21333a008999",
        "colab": {
          "base_uri": "https://localhost:8080/"
        }
      },
      "source": [
        "embedding_matrix.shape"
      ],
      "execution_count": 57,
      "outputs": [
        {
          "output_type": "execute_result",
          "data": {
            "text/plain": [
              "(64630, 300)"
            ]
          },
          "metadata": {},
          "execution_count": 57
        }
      ]
    },
    {
      "cell_type": "markdown",
      "metadata": {
        "id": "bP9E-nr8wkMq"
      },
      "source": [
        "#### Model building and training"
      ]
    },
    {
      "cell_type": "markdown",
      "metadata": {
        "id": "7jZEne1JNdfK"
      },
      "source": [
        "#### Model building"
      ]
    },
    {
      "cell_type": "markdown",
      "metadata": {
        "id": "YWkEiL2vO1Mr"
      },
      "source": [
        "## Using LSTM - Birectional LSTM and sample weights"
      ]
    },
    {
      "cell_type": "markdown",
      "metadata": {
        "id": "KDmzkWgBP4UB"
      },
      "source": [
        "### Model building"
      ]
    },
    {
      "cell_type": "code",
      "metadata": {
        "id": "w9hK46EkdwQV"
      },
      "source": [
        "input_text_blstm = Input(shape=(MAX_SEQUENCE_LENGTH,), dtype='float32')\n",
        "embedding_layer_blstm = Embedding(len(tokenizer.word_index) + 1,\n",
        "                                    300,\n",
        "                                    weights=[embedding_matrix],\n",
        "                                    input_length=MAX_SEQUENCE_LENGTH,\n",
        "                                    trainable=False)\n",
        "b = embedding_layer_blstm(input_text_blstm)\n",
        "b = SpatialDropout1D(0.2)(b)\n",
        "b = Bidirectional(LSTM(128, return_sequences=True))(b)\n",
        "b = Bidirectional(LSTM(128, return_sequences=True))(b)\n",
        "b = GlobalMaxPooling1D()(b)\n",
        "b = Dense(512, activation='relu')(b)\n",
        "b = Dense(512, activation='relu')(b)\n",
        "blstm_output = Dense(2, activation='softmax')(b)"
      ],
      "execution_count": 58,
      "outputs": []
    },
    {
      "cell_type": "code",
      "metadata": {
        "id": "6KvBMoq-hQbX"
      },
      "source": [
        "model = Model(inputs=[input_text_blstm], outputs=[blstm_output])"
      ],
      "execution_count": 59,
      "outputs": []
    },
    {
      "cell_type": "code",
      "metadata": {
        "id": "niUrqsgCiAxN"
      },
      "source": [
        "# https://www.kaggle.com/kernels/scriptcontent/16109977/download\n",
        "sample_weights = np.ones(len(train_text), dtype=np.float32)\n",
        "sample_weights += train_df[identity_columns].sum(axis=1) * 3\n",
        "sample_weights += train_df[TOXICITY_COLUMN] * (~train_df[identity_columns]).sum(axis=1) * 3\n",
        "sample_weights += (~train_df[TOXICITY_COLUMN]) * train_df[identity_columns].sum(axis=1) * 9\n",
        "sample_weights /= sample_weights.mean()"
      ],
      "execution_count": 60,
      "outputs": []
    },
    {
      "cell_type": "code",
      "metadata": {
        "id": "OndahKQdkE0P",
        "outputId": "1de7ef71-fb2b-4fc7-b507-9af664edc4f5",
        "colab": {
          "base_uri": "https://localhost:8080/"
        }
      },
      "source": [
        "[sample_weights.values, np.ones_like(sample_weights)]"
      ],
      "execution_count": 61,
      "outputs": [
        {
          "output_type": "execute_result",
          "data": {
            "text/plain": [
              "[array([0.8817426 , 0.8817426 , 0.8817426 , ..., 0.8817426 , 0.8817426 ,\n",
              "        0.47478447]), array([1., 1., 1., ..., 1., 1., 1.])]"
            ]
          },
          "metadata": {},
          "execution_count": 61
        }
      ]
    },
    {
      "cell_type": "markdown",
      "metadata": {
        "id": "Grk8a0OZP3nH"
      },
      "source": [
        "### Model training"
      ]
    },
    {
      "cell_type": "code",
      "metadata": {
        "id": "NMgNnO_7jLkX"
      },
      "source": [
        "model.compile(loss='categorical_crossentropy',\n",
        "                  optimizer='adam',\n",
        "                  metrics=['accuracy'])"
      ],
      "execution_count": 62,
      "outputs": []
    },
    {
      "cell_type": "code",
      "metadata": {
        "id": "HI70wLD1jnMP"
      },
      "source": [
        "NUM_EPOCHS = 10"
      ],
      "execution_count": 63,
      "outputs": []
    },
    {
      "cell_type": "code",
      "metadata": {
        "id": "Kt6ub1bwja9q",
        "outputId": "fb2f642a-8a32-4d38-89a5-6bd92e64d8a6",
        "colab": {
          "base_uri": "https://localhost:8080/"
        }
      },
      "source": [
        "BLSTM_Model = model.fit(train_text,train_y,\n",
        "              batch_size=BATCH_SIZE,\n",
        "              epochs=NUM_EPOCHS,\n",
        "              validation_data=(validate_text, validate_y),\n",
        "              sample_weight = [sample_weights.values])"
      ],
      "execution_count": 64,
      "outputs": [
        {
          "output_type": "stream",
          "name": "stdout",
          "text": [
            "116/116 [==============================] - 53s 367ms/step - loss: 0.2284 - accuracy: 0.8503 - val_loss: 0.2908 - val_accuracy: 0.8780\n"
          ]
        }
      ]
    },
    {
      "cell_type": "markdown",
      "metadata": {
        "id": "wk_d-7F0QLiv"
      },
      "source": [
        "### Results"
      ]
    },
    {
      "cell_type": "code",
      "metadata": {
        "id": "_4mdzSVf_6Mj",
        "colab": {
          "base_uri": "https://localhost:8080/"
        },
        "outputId": "43808c42-cf34-4edc-fae4-3596ec06dbe5"
      },
      "source": [
        "# Prediction on data, takes time because in the end this is run on all the GPT-2 outputs\n",
        "MODEL_NAME = 'blstm_model'\n",
        "cv_df[MODEL_NAME] = model.predict(validate_text)[:, 1]"
      ],
      "execution_count": 65,
      "outputs": [
        {
          "output_type": "stream",
          "name": "stdout",
          "text": [
            "464/464 [==============================] - 16s 29ms/step\n"
          ]
        }
      ]
    },
    {
      "cell_type": "code",
      "metadata": {
        "id": "5Qg-_ES_AAqn",
        "colab": {
          "base_uri": "https://localhost:8080/",
          "height": 112
        },
        "outputId": "b7cbf16b-cf12-40c9-d492-542ca2205ebd"
      },
      "source": [
        "bias_metrics_df = compute_bias_metrics_for_model(cv_df, identity_columns, MODEL_NAME, TOXICITY_COLUMN)\n",
        "bias_metrics_df"
      ],
      "execution_count": 66,
      "outputs": [
        {
          "output_type": "execute_result",
          "data": {
            "text/plain": [
              "  subgroup  subgroup_size  subgroup_auc  bpsn_auc  bnsp_auc\n",
              "0     male           8344      0.876342  0.869748  0.888968\n",
              "1   female          10264      0.879063  0.909288  0.843040"
            ],
            "text/html": [
              "\n",
              "  <div id=\"df-e76a6066-38b6-4cc1-8b23-ee511a737e4c\">\n",
              "    <div class=\"colab-df-container\">\n",
              "      <div>\n",
              "<style scoped>\n",
              "    .dataframe tbody tr th:only-of-type {\n",
              "        vertical-align: middle;\n",
              "    }\n",
              "\n",
              "    .dataframe tbody tr th {\n",
              "        vertical-align: top;\n",
              "    }\n",
              "\n",
              "    .dataframe thead th {\n",
              "        text-align: right;\n",
              "    }\n",
              "</style>\n",
              "<table border=\"1\" class=\"dataframe\">\n",
              "  <thead>\n",
              "    <tr style=\"text-align: right;\">\n",
              "      <th></th>\n",
              "      <th>subgroup</th>\n",
              "      <th>subgroup_size</th>\n",
              "      <th>subgroup_auc</th>\n",
              "      <th>bpsn_auc</th>\n",
              "      <th>bnsp_auc</th>\n",
              "    </tr>\n",
              "  </thead>\n",
              "  <tbody>\n",
              "    <tr>\n",
              "      <th>0</th>\n",
              "      <td>male</td>\n",
              "      <td>8344</td>\n",
              "      <td>0.876342</td>\n",
              "      <td>0.869748</td>\n",
              "      <td>0.888968</td>\n",
              "    </tr>\n",
              "    <tr>\n",
              "      <th>1</th>\n",
              "      <td>female</td>\n",
              "      <td>10264</td>\n",
              "      <td>0.879063</td>\n",
              "      <td>0.909288</td>\n",
              "      <td>0.843040</td>\n",
              "    </tr>\n",
              "  </tbody>\n",
              "</table>\n",
              "</div>\n",
              "      <button class=\"colab-df-convert\" onclick=\"convertToInteractive('df-e76a6066-38b6-4cc1-8b23-ee511a737e4c')\"\n",
              "              title=\"Convert this dataframe to an interactive table.\"\n",
              "              style=\"display:none;\">\n",
              "        \n",
              "  <svg xmlns=\"http://www.w3.org/2000/svg\" height=\"24px\"viewBox=\"0 0 24 24\"\n",
              "       width=\"24px\">\n",
              "    <path d=\"M0 0h24v24H0V0z\" fill=\"none\"/>\n",
              "    <path d=\"M18.56 5.44l.94 2.06.94-2.06 2.06-.94-2.06-.94-.94-2.06-.94 2.06-2.06.94zm-11 1L8.5 8.5l.94-2.06 2.06-.94-2.06-.94L8.5 2.5l-.94 2.06-2.06.94zm10 10l.94 2.06.94-2.06 2.06-.94-2.06-.94-.94-2.06-.94 2.06-2.06.94z\"/><path d=\"M17.41 7.96l-1.37-1.37c-.4-.4-.92-.59-1.43-.59-.52 0-1.04.2-1.43.59L10.3 9.45l-7.72 7.72c-.78.78-.78 2.05 0 2.83L4 21.41c.39.39.9.59 1.41.59.51 0 1.02-.2 1.41-.59l7.78-7.78 2.81-2.81c.8-.78.8-2.07 0-2.86zM5.41 20L4 18.59l7.72-7.72 1.47 1.35L5.41 20z\"/>\n",
              "  </svg>\n",
              "      </button>\n",
              "      \n",
              "  <style>\n",
              "    .colab-df-container {\n",
              "      display:flex;\n",
              "      flex-wrap:wrap;\n",
              "      gap: 12px;\n",
              "    }\n",
              "\n",
              "    .colab-df-convert {\n",
              "      background-color: #E8F0FE;\n",
              "      border: none;\n",
              "      border-radius: 50%;\n",
              "      cursor: pointer;\n",
              "      display: none;\n",
              "      fill: #1967D2;\n",
              "      height: 32px;\n",
              "      padding: 0 0 0 0;\n",
              "      width: 32px;\n",
              "    }\n",
              "\n",
              "    .colab-df-convert:hover {\n",
              "      background-color: #E2EBFA;\n",
              "      box-shadow: 0px 1px 2px rgba(60, 64, 67, 0.3), 0px 1px 3px 1px rgba(60, 64, 67, 0.15);\n",
              "      fill: #174EA6;\n",
              "    }\n",
              "\n",
              "    [theme=dark] .colab-df-convert {\n",
              "      background-color: #3B4455;\n",
              "      fill: #D2E3FC;\n",
              "    }\n",
              "\n",
              "    [theme=dark] .colab-df-convert:hover {\n",
              "      background-color: #434B5C;\n",
              "      box-shadow: 0px 1px 3px 1px rgba(0, 0, 0, 0.15);\n",
              "      filter: drop-shadow(0px 1px 2px rgba(0, 0, 0, 0.3));\n",
              "      fill: #FFFFFF;\n",
              "    }\n",
              "  </style>\n",
              "\n",
              "      <script>\n",
              "        const buttonEl =\n",
              "          document.querySelector('#df-e76a6066-38b6-4cc1-8b23-ee511a737e4c button.colab-df-convert');\n",
              "        buttonEl.style.display =\n",
              "          google.colab.kernel.accessAllowed ? 'block' : 'none';\n",
              "\n",
              "        async function convertToInteractive(key) {\n",
              "          const element = document.querySelector('#df-e76a6066-38b6-4cc1-8b23-ee511a737e4c');\n",
              "          const dataTable =\n",
              "            await google.colab.kernel.invokeFunction('convertToInteractive',\n",
              "                                                     [key], {});\n",
              "          if (!dataTable) return;\n",
              "\n",
              "          const docLinkHtml = 'Like what you see? Visit the ' +\n",
              "            '<a target=\"_blank\" href=https://colab.research.google.com/notebooks/data_table.ipynb>data table notebook</a>'\n",
              "            + ' to learn more about interactive tables.';\n",
              "          element.innerHTML = '';\n",
              "          dataTable['output_type'] = 'display_data';\n",
              "          await google.colab.output.renderOutput(dataTable, element);\n",
              "          const docLink = document.createElement('div');\n",
              "          docLink.innerHTML = docLinkHtml;\n",
              "          element.appendChild(docLink);\n",
              "        }\n",
              "      </script>\n",
              "    </div>\n",
              "  </div>\n",
              "  "
            ]
          },
          "metadata": {},
          "execution_count": 66
        }
      ]
    },
    {
      "cell_type": "code",
      "source": [
        "df.to_csv('pop_model2.csv')"
      ],
      "metadata": {
        "id": "K1SgmaAq0HjZ"
      },
      "execution_count": 68,
      "outputs": []
    },
    {
      "cell_type": "code",
      "metadata": {
        "id": "JGIzMP_oAC_-",
        "outputId": "276c6fe7-b94e-4911-b669-880529f3ae37",
        "colab": {
          "base_uri": "https://localhost:8080/"
        }
      },
      "source": [
        "get_final_metric(bias_metrics_df, calculate_overall_auc(cv_df, MODEL_NAME))"
      ],
      "execution_count": 67,
      "outputs": [
        {
          "output_type": "execute_result",
          "data": {
            "text/plain": [
              "0.8772862145604501"
            ]
          },
          "metadata": {},
          "execution_count": 67
        }
      ]
    }
  ]
}